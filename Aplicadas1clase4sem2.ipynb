{
  "nbformat": 4,
  "nbformat_minor": 0,
  "metadata": {
    "colab": {
      "provenance": [],
      "authorship_tag": "ABX9TyPk76Ss6IhJEeZwiCjGnUxc",
      "include_colab_link": true
    },
    "kernelspec": {
      "name": "python3",
      "display_name": "Python 3"
    },
    "language_info": {
      "name": "python"
    }
  },
  "cells": [
    {
      "cell_type": "markdown",
      "metadata": {
        "id": "view-in-github",
        "colab_type": "text"
      },
      "source": [
        "<a href=\"https://colab.research.google.com/github/Heidy024/Aplicadas-/blob/main/Aplicadas1clase4sem2.ipynb\" target=\"_parent\"><img src=\"https://colab.research.google.com/assets/colab-badge.svg\" alt=\"Open In Colab\"/></a>"
      ]
    },
    {
      "cell_type": "code",
      "execution_count": 23,
      "metadata": {
        "id": "NpTD8rL8rVg9",
        "colab": {
          "base_uri": "https://localhost:8080/"
        },
        "outputId": "ba0c208a-4a15-415b-a077-2f88f368c3b6"
      },
      "outputs": [
        {
          "output_type": "stream",
          "name": "stdout",
          "text": [
            "<class 'float'>\n",
            "0.5\n",
            "False\n",
            "Ana Ramos\n"
          ]
        }
      ],
      "source": [
        "type('Hola')\n",
        "print(type(1/2))\n",
        "mitad_de_uno=1/2\n",
        "print(mitad_de_uno)\n",
        "\n",
        "'Número complejo tipo'\n",
        "(3+4j)+(2-1j)\n",
        "#Recuerda poner el operador entre los parentesis\n",
        "\n",
        "x=False\n",
        "a=True\n",
        "print(x and a)\n",
        "\n",
        "#En divisiones con // toma el número antes del decimal NO aproxima\n",
        "#Al contrario de /que sí te da varios decimales pero tampoco aproxima\n",
        "\n",
        "######Variables\n",
        "\n",
        "nombre= 'Ana'\n",
        "nombre+=' Ramos'\n",
        "print(nombre)\n",
        "\n",
        "\n",
        "\n",
        "\n",
        "\n"
      ]
    },
    {
      "cell_type": "code",
      "source": [
        "while True:\n",
        "  nombre = str(input(\"Diga su nombre: \"))\n",
        "\n",
        "  if nombre == \"a\":\n",
        "    break\n",
        "  else:\n",
        "    print(\"Mentirosa\")\n",
        "\n",
        "import pandas\n"
      ],
      "metadata": {
        "colab": {
          "base_uri": "https://localhost:8080/"
        },
        "id": "EghctRQqCssn",
        "outputId": "126f4759-4cec-4852-8cd7-561289c6b311"
      },
      "execution_count": 29,
      "outputs": [
        {
          "name": "stdout",
          "output_type": "stream",
          "text": [
            "Diga su nombre: a\n"
          ]
        }
      ]
    }
  ]
}