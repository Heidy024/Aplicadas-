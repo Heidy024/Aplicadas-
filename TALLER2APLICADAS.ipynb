{
  "nbformat": 4,
  "nbformat_minor": 0,
  "metadata": {
    "colab": {
      "provenance": [],
      "authorship_tag": "ABX9TyN5zA2tT5cQBv9XMRrPEnO5",
      "include_colab_link": true
    },
    "kernelspec": {
      "name": "python3",
      "display_name": "Python 3"
    },
    "language_info": {
      "name": "python"
    }
  },
  "cells": [
    {
      "cell_type": "markdown",
      "metadata": {
        "id": "view-in-github",
        "colab_type": "text"
      },
      "source": [
        "<a href=\"https://colab.research.google.com/github/Heidy024/Aplicadas-/blob/main/TALLER2APLICADAS.ipynb\" target=\"_parent\"><img src=\"https://colab.research.google.com/assets/colab-badge.svg\" alt=\"Open In Colab\"/></a>"
      ]
    },
    {
      "cell_type": "code",
      "source": [
        "# TALLER 2 APLICADAS 1\n",
        "#Megan Isabella Loaiza A00411917\n",
        "#Nicholas Solís A00411205\n",
        "#Heidy Yuliana Hernandez A00411232"
      ],
      "metadata": {
        "id": "Al-S6dFTmvxg"
      },
      "execution_count": null,
      "outputs": []
    },
    {
      "cell_type": "code",
      "source": [
        "import numpy as np"
      ],
      "metadata": {
        "id": "07xIGN6AMBZp"
      },
      "execution_count": null,
      "outputs": []
    },
    {
      "cell_type": "code",
      "source": [
        "def es_primo(n):\n",
        "    if n < 2:\n",
        "        return False\n",
        "    for i in range(2, int(n ** 0.5) + 1):\n",
        "        if n % i == 0:\n",
        "            return False\n",
        "    return True\n",
        "\n",
        "def filtrar_primos(lista):\n",
        "    return [num for num in lista if es_primo(num)]\n",
        "numeros = [1, 2, 3, 4, 5, 6, 7, 8, 9, 10, 11, 13, 17, 18, 19, 20, 21, 22, 23]\n",
        "primos = filtrar_primos(numeros)\n",
        "print(primos)\n"
      ],
      "metadata": {
        "colab": {
          "base_uri": "https://localhost:8080/"
        },
        "id": "ZmFwbEnGjm5g",
        "outputId": "dbd694fc-1c94-443d-f131-66a7ac365b20"
      },
      "execution_count": null,
      "outputs": [
        {
          "output_type": "stream",
          "name": "stdout",
          "text": [
            "[2, 3, 5, 7, 11, 13, 17, 19, 23]\n"
          ]
        }
      ]
    },
    {
      "cell_type": "code",
      "source": [
        "def elementos_comunes(lista1, lista2):\n",
        "    return [num for num in lista1 if num in lista2]\n",
        "\n",
        "lista_a = [1, 2, 3, 4, 5, 6, 7, 8]\n",
        "lista_b = [2, 4, 6, 7, 8, 9]\n",
        "resultado = elementos_comunes(lista_a, lista_b)\n",
        "print(resultado)"
      ],
      "metadata": {
        "colab": {
          "base_uri": "https://localhost:8080/"
        },
        "id": "3rDJIPCdjqgF",
        "outputId": "b18c02ff-b2be-4231-9b6e-994cb0d8f307"
      },
      "execution_count": null,
      "outputs": [
        {
          "output_type": "stream",
          "name": "stdout",
          "text": [
            "[2, 4, 6, 7, 8]\n"
          ]
        }
      ]
    },
    {
      "cell_type": "code",
      "source": [
        "lista=[1,2,3,4,5,6,7,8,9]\n",
        "def lista_matriz(lista):\n",
        "  n= int(len(lista)**0.5)\n",
        "\n",
        "  if n*n!= len(lista):\n",
        "      return \"Error: La lista no puede formar una matriz cuadrada.\"\n",
        "\n",
        "  matriz=[lista[i*n:(i+1)*n]for i in range(n)]\n",
        "  return matriz\n",
        "\n",
        "matriz_2x2= lista_matriz(lista)\n",
        "print(matriz_2x2)"
      ],
      "metadata": {
        "colab": {
          "base_uri": "https://localhost:8080/"
        },
        "id": "6vDYce3Nju2n",
        "outputId": "d9d8b905-b67f-4fa2-fccb-ede11622f430"
      },
      "execution_count": null,
      "outputs": [
        {
          "output_type": "stream",
          "name": "stdout",
          "text": [
            "[[1, 2, 3], [4, 5, 6], [7, 8, 9]]\n"
          ]
        }
      ]
    },
    {
      "cell_type": "code",
      "source": [
        "from statistics import mean, median, multimode\n",
        "\n",
        "def calcular_estadisticas(lista):\n",
        "    media = mean(lista)\n",
        "    mediana = median(lista)\n",
        "    modas = multimode(lista)\n",
        "    return {\"media\": media, \"mediana\": mediana, \"moda\": modas}\n",
        "\n",
        "# Lista de números\n",
        "lista_numeros = [2, 2, 2, 3, 3, 4, 5, 6, 7, 7, 8]\n",
        "\n",
        "# Llamar a la función con la lista\n",
        "resultado = calcular_estadisticas(lista_numeros)\n",
        "\n",
        "# Imprimir el resultado\n",
        "print(resultado)\n"
      ],
      "metadata": {
        "colab": {
          "base_uri": "https://localhost:8080/"
        },
        "id": "qz5J1b2Ej6BK",
        "outputId": "8b0bbd91-7fa2-4313-ffb7-df952feb1647"
      },
      "execution_count": null,
      "outputs": [
        {
          "output_type": "stream",
          "name": "stdout",
          "text": [
            "{'media': 4.454545454545454, 'mediana': 4, 'moda': [2]}\n"
          ]
        }
      ]
    },
    {
      "cell_type": "code",
      "source": [
        "def calcular_total(precios, cantidades):\n",
        "    total = sum(p*c for p,c in zip(precios, cantidades))\n",
        "\n",
        "    if total > 100:\n",
        "        total *= 0.9\n",
        "\n",
        "    return total\n",
        "\n",
        "precios = [18,25,16,12]\n",
        "cantidades = [5,1,10,4]\n",
        "resultado = calcular_total(precios, cantidades)\n",
        "print(\"Total a pagar: $\"+str(resultado))"
      ],
      "metadata": {
        "colab": {
          "base_uri": "https://localhost:8080/"
        },
        "id": "EXG30vBlkCxS",
        "outputId": "a9b93222-3d61-486a-b0ad-b05d292f68b1"
      },
      "execution_count": null,
      "outputs": [
        {
          "output_type": "stream",
          "name": "stdout",
          "text": [
            "Total a pagar: $290.7\n"
          ]
        }
      ]
    },
    {
      "cell_type": "code",
      "source": [
        "\n",
        "#PUNTO 6\n",
        "\n",
        "\n",
        "\n",
        "\n",
        "productos_inventario = np.array([\"LECHE\", \"PAN\", \"JAMÓN\"])\n",
        "productos_vendidos = np.array([\"ARROZ\",\"SAL\",\"AZÚCAR\"])\n",
        "def productosv(productos_inventario,productos_vendidos):\n",
        "\n",
        " # Convertir arrays a conjuntos\n",
        "    inventario_set = set(productos_inventario)\n",
        "    vendidos_set = set(productos_vendidos)\n",
        "\n",
        "    # Calcular la diferencia (productos que quedan en inventario)\n",
        "    solo_inventario = inventario_set - vendidos_set\n",
        "\n",
        "    # Devolver como lista\n",
        "    return list(solo_inventario)\n",
        "\n",
        "# Llamar a la función\n",
        "inventario_actualizado = productosv(productos_inventario, productos_vendidos)\n",
        "\n",
        "print(inventario_actualizado)\n",
        "\n",
        "\n",
        "\n",
        "\n",
        "\n"
      ],
      "metadata": {
        "colab": {
          "base_uri": "https://localhost:8080/"
        },
        "id": "19IF5LfSHJfb",
        "outputId": "2ad2763b-d7ee-423c-807a-309cc81ed6d3"
      },
      "execution_count": null,
      "outputs": [
        {
          "output_type": "stream",
          "name": "stdout",
          "text": [
            "['JAMÓN', 'LECHE', 'PAN']\n"
          ]
        }
      ]
    },
    {
      "cell_type": "code",
      "source": [
        "#PUNTO 7\n",
        "\n",
        "temperaturas_cel=[27,28,32,19,40] #Están en celsious pero en el programa serán tratadas como int\n",
        "masde30=[]\n",
        "entre20y30=[]\n",
        "menosde20=[]\n",
        "def organizar_temperaturas (temperaturas_cel):\n",
        "  for i in temperaturas_cel:\n",
        "    if i > 30:\n",
        "      masde30.append(i)\n",
        "    elif 20<= i <= 30:\n",
        "      entre20y30.append(i)\n",
        "    else:\n",
        "      menosde20.append(i)\n",
        "\n",
        "  print(f\"La cantidad de días en los cuales la temperatura estuvo a más de 30° es: {len(masde30)}\")\n",
        "  print(f\"La cantidad de días en los cuales la temperatura estuvo entre 20° y 30° es: {len(entre20y30)}\")\n",
        "  print(f\"La cantidad de días en los cuales la temperatura estuvo por debajo de 20° es: {len(menosde20)}\")\n",
        "\n",
        "organizar_temperaturas(temperaturas_cel)\n"
      ],
      "metadata": {
        "id": "YcjFxhPbS63I",
        "colab": {
          "base_uri": "https://localhost:8080/"
        },
        "outputId": "03442a20-9a2d-45c8-a335-5e4daafe4762"
      },
      "execution_count": null,
      "outputs": [
        {
          "output_type": "stream",
          "name": "stdout",
          "text": [
            "La cantidad de días en los cuales la temperatura estuvo a más de 30° es: 2\n",
            "La cantidad de días en los cuales la temperatura estuvo entre 20° y 30° es: 2\n",
            "La cantidad de días en los cuales la temperatura estuvo por debajo de 20° es: 1\n"
          ]
        }
      ]
    },
    {
      "cell_type": "code",
      "source": [
        "#PUNTO 8\n",
        "alimentos = [\"Jamón\", \"Pan\", \"Queso mozzarella\", \"Naranja\", \"Manzana\"]\n",
        "calorias_por_libra = [600, 1200, 1600, 200, 240] #Siguiendo el orden de los alimentos\n",
        "\n",
        "def calorias(alimentos, calorias_por_libra):\n",
        "    total_calorias = 0  # Inicializamos el contador de calorías\n",
        "    while True:\n",
        "        alimentoinput = int(input(\n",
        "            \"Digite los alimentos que ha consumido:\\n\"\n",
        "            \"0 - Jamón\\n1 - Pan\\n2 - Queso mozzarella\\n3 - Naranja\\n4 - Manzana\\n\"\n",
        "            \"Digite 5 para terminar y ver cuántas calorías consumió: \"\n",
        "        ))\n",
        "\n",
        "        if alimentoinput == 5:  # Si el usuario ingresa 5, terminamos el bucle\n",
        "            break\n",
        "\n",
        "        if 0 <= alimentoinput <= 4:  # Verificamos que la entrada es válida\n",
        "            total_calorias += calorias_por_libra[alimentoinput]  # Sumamos calorías\n",
        "        else:\n",
        "            print(\"⚠️ Opción no válida. Intente nuevamente.\")\n",
        "\n",
        "    return total_calorias  # Retornamos la suma total de calorías\n",
        "\n",
        "# Llamamos a la función correctamente\n",
        "total_calorias = calorias(alimentos, calorias_por_libra)\n",
        "\n",
        "# Mostramos el total de calorías consumidas\n",
        "print(f\"🔥 Calorías totales consumidas: {total_calorias}\")\n",
        "\n",
        "\n"
      ],
      "metadata": {
        "colab": {
          "base_uri": "https://localhost:8080/"
        },
        "id": "yQHxaIyuDNHG",
        "outputId": "f55ac745-02fc-45c8-ab8b-089b15dc6731"
      },
      "execution_count": null,
      "outputs": [
        {
          "output_type": "stream",
          "name": "stdout",
          "text": [
            "Digite los alimentos que ha consumido:\n",
            "0 - Jamón\n",
            "1 - Pan\n",
            "2 - Queso mozzarella\n",
            "3 - Naranja\n",
            "4 - Manzana\n",
            "Digite 5 para terminar y ver cuántas calorías consumió: 5\n",
            "🔥 Calorías totales consumidas: 0\n"
          ]
        }
      ]
    },
    {
      "cell_type": "code",
      "execution_count": null,
      "metadata": {
        "colab": {
          "base_uri": "https://localhost:8080/"
        },
        "id": "EYEyjCslCG0C",
        "outputId": "4ea46664-f1d7-43e6-d3a5-1692b05e7a8e"
      },
      "outputs": [
        {
          "output_type": "stream",
          "name": "stdout",
          "text": [
            "Digite la venta (0 para finalizar): 200\n",
            "Digite la venta (0 para finalizar): 0\n",
            "📊 El promedio de ventas mensuales es: 200.00\n",
            "📈 Ventas mayores al promedio: []\n"
          ]
        }
      ],
      "source": [
        "import numpy as np\n",
        "\n",
        "# PUNTO 9\n",
        "\n",
        "def promedio():\n",
        "    ventas_mensuales = []\n",
        "    while True:\n",
        "        venta = int(input(\"Digite la venta (0 para finalizar): \"))\n",
        "        if venta == 0:\n",
        "            break\n",
        "        ventas_mensuales.append(venta)\n",
        "    return ventas_mensuales\n",
        "\n",
        "ventas_mensuales = promedio()\n",
        "\n",
        "venta_promedio = np.mean(ventas_mensuales)\n",
        "venta_mayor_alpromedio = [i for i in ventas_mensuales if i > venta_promedio]\n",
        "\n",
        "print(f\"📊 El promedio de ventas mensuales es: {venta_promedio:.2f}\")\n",
        "print(f\"📈 Ventas mayores al promedio: {venta_mayor_alpromedio}\")\n",
        "\n",
        "\n",
        "\n"
      ]
    },
    {
      "cell_type": "code",
      "source": [
        "#10\n",
        "\n",
        "def AplicarDescuento(a):\n",
        "\n",
        "  precioFinal = 0\n",
        "\n",
        "  if a >= 200:\n",
        "    precioFinal = a*0.85\n",
        "\n",
        "  elif a >= 101:\n",
        "    precioFinal = a*0.9\n",
        "\n",
        "  elif a >= 50:\n",
        "    precioFinal = a*0.95\n",
        "\n",
        "  elif a >= 0:\n",
        "    print(\"No se aplica ningun descuento\")\n",
        "\n",
        "  else:\n",
        "    print(\"Por favor digite una valor por encima de 0\")\n",
        "\n",
        "  return precioFinal\n",
        "\n",
        "while True:\n",
        "  try:\n",
        "    valorCompra = int(input(\"Digite o valor de la compra: \"))\n",
        "    if valorCompra >= 0:\n",
        "      break\n",
        "  except ValueError:\n",
        "    print(\"Por favor digite un valor numerico\")\n",
        "\n",
        "AplicarDescuento(valorCompra)"
      ],
      "metadata": {
        "id": "lmbwB9aajZJR"
      },
      "execution_count": null,
      "outputs": []
    },
    {
      "cell_type": "code",
      "source": [
        "#11\n",
        "\n",
        "while True:\n",
        "  try:\n",
        "    numeroPacientes = int(input(\"Digite el numero de pacientes: \"))\n",
        "    if numeroPacientes >= 0:\n",
        "      break\n",
        "    else:\n",
        "      print(\"Por favor digite un valor por encima de 0\")\n",
        "  except ValueError:\n",
        "    print(\"Por favor digite un valor numerico\")\n",
        "\n",
        "edadPacientesMayores = []\n",
        "nombrePacientesMayores = []\n",
        "\n",
        "def pacienteMayores(a):\n",
        "  for i in range(a):\n",
        "    while True:\n",
        "      try:\n",
        "        edad = int(input(\"Digite la edad del paciente: \"))\n",
        "        break\n",
        "      except ValueError:\n",
        "        print(\"Por favor digite un valor numerico\")\n",
        "    nombre = input(\"Digite el nombre del paciente: \")\n",
        "    if edad > 60:\n",
        "      edadPacientesMayores.append(edad)\n",
        "      nombrePacientesMayores.append(nombre)\n",
        "  if len(edadPacientesMayores)==0:\n",
        "    print(\"No hay pacientes mayores de 60 años\")\n",
        "  else:\n",
        "    for i in range(len(edadPacientesMayores)):\n",
        "     print(f\"El paciente {nombrePacientesMayores[i]} tiene {edadPacientesMayores[i]} años y necesita atencion prioritaria\")\n",
        "\n",
        "pacienteMayores(numeroPacientes)\n"
      ],
      "metadata": {
        "colab": {
          "base_uri": "https://localhost:8080/"
        },
        "id": "hUEK_k4Bln4J",
        "outputId": "fb90d81e-f164-4648-ca74-66b381f20238"
      },
      "execution_count": null,
      "outputs": [
        {
          "output_type": "stream",
          "name": "stdout",
          "text": [
            "Digite el numero de pacientes: 12\n",
            "Digite la edad del paciente: 12\n",
            "Digite el nombre del paciente: ana\n",
            "Digite la edad del paciente: 2\n",
            "Digite el nombre del paciente: r\n",
            "Digite la edad del paciente: 2\n",
            "Digite el nombre del paciente: 4\n",
            "Digite la edad del paciente: r\n",
            "Por favor digite un valor numerico\n",
            "Digite la edad del paciente: 2\n",
            "Digite el nombre del paciente: r\n",
            "Digite la edad del paciente: 3\n",
            "Digite el nombre del paciente: r\n",
            "Digite la edad del paciente: 3\n",
            "Digite el nombre del paciente: r\n",
            "Digite la edad del paciente: 3\n",
            "Digite el nombre del paciente: r\n",
            "Digite la edad del paciente: 3\n",
            "Digite el nombre del paciente: r\n",
            "Digite la edad del paciente: 3\n",
            "Digite el nombre del paciente: r\n",
            "Digite la edad del paciente: 3\n",
            "Digite el nombre del paciente: r\n",
            "Digite la edad del paciente: 3\n",
            "Digite el nombre del paciente: r\n",
            "Digite la edad del paciente: 3\n",
            "Digite el nombre del paciente: r\n",
            "No hay pacientes mayores de 60 años\n"
          ]
        }
      ]
    },
    {
      "cell_type": "code",
      "source": [
        "#12\n",
        "\n",
        "while True:\n",
        "  try:\n",
        "\n",
        "    gastosComida = int(input(\"Digite el valor de los gastos de comida de este mes: \"))\n",
        "    if gastosComida >= 0:\n",
        "      break\n",
        "    else:\n",
        "      print(\"Por favor digite un valor por encima de 0\")\n",
        "\n",
        "  except ValueError:\n",
        "    print(\"Por favor digite un valor numerico\")\n",
        "\n",
        "while True:\n",
        "  try:\n",
        "\n",
        "    gastosAlquiler = int(input(\"Digite el valor de los gastos de alquiler de este mes: \"))\n",
        "    if gastosAlquiler >= 0:\n",
        "      break\n",
        "    else:\n",
        "      print(\"Por favor digite un valor por encima de 0\")\n",
        "\n",
        "  except ValueError:\n",
        "    print(\"Por favor digite un valor numerico\")\n",
        "\n",
        "while True:\n",
        "  try:\n",
        "\n",
        "    gastosTransporte = int(input(\"Digite el valor de los gastos de transporte de este mes: \"))\n",
        "    if gastosTransporte >= 0:\n",
        "      break\n",
        "    else:\n",
        "      print(\"Por favor digite un valor por encima de 0\")\n",
        "\n",
        "  except ValueError:\n",
        "    print(\"Por favor digite un valor numerico\")\n",
        "\n",
        "while True:\n",
        "  try:\n",
        "\n",
        "    gastosServicios = int(input(\"Digite el valor de los gastos de servicios de este mes: \"))\n",
        "    if gastosServicios >= 0:\n",
        "      break\n",
        "    else:\n",
        "      print(\"Por favor digite un valor por encima de 0\")\n",
        "\n",
        "  except ValueError:\n",
        "    print(\"Por favor digite un valor numerico\")\n",
        "\n",
        "def GastosMensuales(a,b,c,d):\n",
        "  sumaTotal = a+b+c+d\n",
        "  if a==b or a==c or a==d or b==c or b==d or c==d:\n",
        "    return print(\"Hay dos o mas valores iguales, la suma total es de\",sumaTotal)\n",
        "  elif a>=b and a>=c and a>=d:\n",
        "    mayor = a\n",
        "    print(\"La categoria mas alta fue la de comida\")\n",
        "  elif b>=a and b>=c and b>=d:\n",
        "    mayor = b\n",
        "    print(\"La categoria mas alta fue la de alquiler\")\n",
        "  elif c>=a and c>=b and c>=d:\n",
        "    mayor = c\n",
        "    print(\"La categoria mas alta fue la de trasnporte\")\n",
        "  elif d>=a and d>=b and d>=c:\n",
        "    mayor = d\n",
        "    print(\"La categoria mas alta fue la de servicios\")\n",
        "\n",
        "  return print(\"\\n La suma total fue de\",sumaTotal,\"y el gasto mas alto fue de\",mayor)\n",
        "\n",
        "GastosMensuales(gastosComida,gastosAlquiler,gastosTransporte,gastosServicios)"
      ],
      "metadata": {
        "colab": {
          "base_uri": "https://localhost:8080/"
        },
        "id": "31RN9dU-ls-H",
        "outputId": "25cce914-782e-4fd4-ac78-c5d6524384c7"
      },
      "execution_count": null,
      "outputs": [
        {
          "output_type": "stream",
          "name": "stdout",
          "text": [
            "Digite el valor de los gastos de comida de este mes: 3\n",
            "Digite el valor de los gastos de alquiler de este mes: 400000\n",
            "Digite el valor de los gastos de transporte de este mes: 150000\n",
            "Digite el valor de los gastos de servicios de este mes: 50000\n",
            "La categoria mas alta fue la de alquiler\n",
            "\n",
            " La suma total fue de 600003 y el gasto mas alto fue de 400000\n"
          ]
        }
      ]
    },
    {
      "cell_type": "code",
      "source": [
        "#13\n",
        "\n",
        "listaDeRegistrados = []\n",
        "listaDeAsistencia = []\n",
        "\n",
        "while True:\n",
        "  try:\n",
        "    numeroRegistros = int(input(\"Cuantas personas hay registradas para el evento: \"))\n",
        "    if numeroRegistros >= 0:\n",
        "      break\n",
        "    else:\n",
        "      print(\"Por favor digite un valor por encima de 0\")\n",
        "  except ValueError:\n",
        "    print(\"Por favor digite un valor numerico\")\n",
        "\n",
        "for i in range(numeroRegistros):\n",
        "  nombres = input(f\"Cual es el nombre de la {i+1} persona: \").upper()\n",
        "  listaDeRegistrados.append(nombres)\n",
        "\n",
        "while True:\n",
        "  try:\n",
        "    numeroAsistencia = int(input(\"Cuantas personas asistieron para el evento: \"))\n",
        "    if numeroAsistencia > numeroRegistros:\n",
        "      print(\"No pueden haber mas asistencias que registros\")\n",
        "    elif numeroAsistencia >= 0:\n",
        "      break\n",
        "    else:\n",
        "      print(\"Por favor digite un valor por encima de 0\")\n",
        "  except ValueError:\n",
        "    print(\"Por favor digite un valor numerico\")\n",
        "\n",
        "for i in range(numeroAsistencia):\n",
        "  nombres = input(f\"Cual es el nombre de la {i+1} persona: \").upper()\n",
        "  listaDeAsistencia.append(nombres)\n",
        "\n",
        "def ConfirmacionAsistencia(a,b):\n",
        "\n",
        "  listaDeFaltantes = []\n",
        "\n",
        "  for i in a:\n",
        "    if i in b:\n",
        "      pass\n",
        "    else:\n",
        "      listaDeFaltantes.append(i)\n",
        "\n",
        "  for i in range(len(listaDeFaltantes)):\n",
        "    print(f\"{listaDeFaltantes[i]}, falto a el evento\")\n",
        "\n",
        "ConfirmacionAsistencia(listaDeRegistrados,listaDeAsistencia)\n",
        "\n"
      ],
      "metadata": {
        "colab": {
          "base_uri": "https://localhost:8080/"
        },
        "id": "YBctx9IAl1ZM",
        "outputId": "8539ef68-212b-4ad6-edb9-1ee0b2f01dd1"
      },
      "execution_count": null,
      "outputs": [
        {
          "name": "stdout",
          "output_type": "stream",
          "text": [
            "Cuantas personas hay registradas para el evento: 2\n",
            "Cual es el nombre de la 1 persona: as\n",
            "Cual es el nombre de la 2 persona: s\n",
            "Cuantas personas asistieron para el evento: 3\n",
            "No pueden haber mas asistencias que registros\n",
            "Cuantas personas asistieron para el evento: 2\n",
            "Cual es el nombre de la 1 persona: as\n",
            "Cual es el nombre de la 2 persona: s\n"
          ]
        }
      ]
    },
    {
      "cell_type": "code",
      "source": [
        "#14\n",
        "\n",
        "def PromedioSemanal():\n",
        "  dias = [\"Lunes\",\"Martes\",\"Miercoles\",\"Jueves\",\"Viernes\",\"Sabado\",\"Domingo\"]\n",
        "  suma = 0\n",
        "\n",
        "  for i in dias:\n",
        "    while True:\n",
        "      try:\n",
        "        minutos = int(input(f\"Cuantos minutos de ejercicio hizo en {i}: \"))\n",
        "        if minutos >= 0:\n",
        "          suma += minutos\n",
        "          break\n",
        "        else:\n",
        "          print(\"Por favor digite un valor por encima de 0\")\n",
        "      except ValueError:\n",
        "        print(\"Por favor digite un valor numerico\")\n",
        "  promedio = suma/len(dias)\n",
        "\n",
        "  if promedio > 60:\n",
        "    print(f\"El promedio de minutos de ejercicio por dia fue de {promedio} horas, excelente estas en forma\")\n",
        "  elif promedio >= 30:\n",
        "    print(f\"El promedio de minutos de ejercicio por dia fue de {promedio}, buen trabajo, pero puedes mejorar\")\n",
        "  else:\n",
        "    print(f\"El promedio de minutos de ejercicio por dia fue de {promedio} minutos, debes hacer mas ejercicio\")\n",
        "\n",
        "PromedioSemanal()"
      ],
      "metadata": {
        "colab": {
          "base_uri": "https://localhost:8080/"
        },
        "id": "HErgcJval-F7",
        "outputId": "3c8d5389-9d5a-4fe1-8ff8-3abe0f29cf4d"
      },
      "execution_count": null,
      "outputs": [
        {
          "output_type": "stream",
          "name": "stdout",
          "text": [
            "Cuantos minutos de ejercicio hizo en Lunes: 90\n",
            "Cuantos minutos de ejercicio hizo en Martes: 0\n",
            "Cuantos minutos de ejercicio hizo en Miercoles: 0\n",
            "Cuantos minutos de ejercicio hizo en Jueves: 0\n",
            "Cuantos minutos de ejercicio hizo en Viernes: 90\n",
            "Cuantos minutos de ejercicio hizo en Sabado: 0\n",
            "Cuantos minutos de ejercicio hizo en Domingo: 0\n",
            "El promedio de minutos de ejercicio por dia fue de 25.714285714285715 minutos, debes hacer mas ejercicio\n"
          ]
        }
      ]
    }
  ]
}