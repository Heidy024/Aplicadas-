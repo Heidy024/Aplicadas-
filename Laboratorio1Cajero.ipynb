{
  "nbformat": 4,
  "nbformat_minor": 0,
  "metadata": {
    "colab": {
      "provenance": [],
      "authorship_tag": "ABX9TyM9dgfSbh3IMxPHRtD+mxyh",
      "include_colab_link": true
    },
    "kernelspec": {
      "name": "python3",
      "display_name": "Python 3"
    },
    "language_info": {
      "name": "python"
    }
  },
  "cells": [
    {
      "cell_type": "markdown",
      "metadata": {
        "id": "view-in-github",
        "colab_type": "text"
      },
      "source": [
        "<a href=\"https://colab.research.google.com/github/Heidy024/Aplicadas-/blob/main/Laboratorio1Cajero.ipynb\" target=\"_parent\"><img src=\"https://colab.research.google.com/assets/colab-badge.svg\" alt=\"Open In Colab\"/></a>"
      ]
    },
    {
      "cell_type": "code",
      "execution_count": null,
      "metadata": {
        "id": "iaTt_wgytO2k"
      },
      "outputs": [],
      "source": [
        "import random\n",
        "import time\n",
        "saldo = random.randint(5000, 10000000)\n",
        "print(\"Bienvenido al cajero.\")\n",
        "while True:\n",
        "    clave = input(\"Por favor, digite su clave (4 dígitos): \")\n",
        "    if clave.isdigit() and len(clave) == 4:\n",
        "        break\n",
        "    print(\"La clave es incorrecta. Intente nuevamente.\")\n",
        "def mostrar_menu():\n",
        "    print(\"\\nElija una opción:\")\n",
        "    print(\"[1] Consultar mi saldo\")\n",
        "    print(\"[2] Depositar\")\n",
        "    print(\"[3] Retirar\")\n",
        "    print(\"[4] Transferir\")\n",
        "    print(\"[5] Salir\\n\")\n",
        "\n",
        "while True:\n",
        "    mostrar_menu()\n",
        "\n",
        "    try:\n",
        "        opcion = int(input(\"Seleccione una opción: \"))\n",
        "\n",
        "        if opcion == 1:\n",
        "            print(\"Su saldo es: $\", saldo)\n",
        "\n",
        "        elif opcion == 2:\n",
        "            deposito = int(input(\"Ingrese el monto a depositar: $\"))\n",
        "            if deposito > 0:\n",
        "                saldo += deposito\n",
        "                print(\"Depósito exitoso.\")\n",
        "            else:\n",
        "                print(\"Digite una opcion valida.\")\n",
        "\n",
        "        elif opcion == 3:\n",
        "            retirado = int(input(\"Ingrese el monto a retirar: $\"))\n",
        "            if 0 < retirado <= saldo:\n",
        "                saldo -= retirado\n",
        "                print(\"Retiro exitoso.\")\n",
        "            else:\n",
        "                print(\"Fondos insuficientes o monto inválido.\")\n",
        "\n",
        "        elif opcion == 4:\n",
        "            transferir = int(input(\"Ingrese el monto a transferir: $\"))\n",
        "            if 0 < transferir <= saldo:\n",
        "                cuenta = input(\"Ingrese el número de cuenta : \")\n",
        "                if len(cuenta) == 10:\n",
        "                    saldo -= transferir\n",
        "                    print(\"Transferencia exitosa.\")\n",
        "                else:\n",
        "                    print(\"Número de cuenta inválido.\")\n",
        "            else:\n",
        "                print(\"Fondos insuficientes o monto inválido.\")\n",
        "\n",
        "        elif opcion == 5:\n",
        "            print(\"Gracias por confiar en nosotros, vuelva pronto\")\n",
        "            break\n",
        "\n",
        "        else:\n",
        "            print(\"Por favor, seleccione una opción válida.\")\n",
        "\n",
        "    except ValueError:\n",
        "        print(\"Ingrese un número válido.\")\n",
        "\n",
        "    time.sleep(1)"
      ]
    }
  ]
}