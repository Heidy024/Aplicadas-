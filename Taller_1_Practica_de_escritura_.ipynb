{
  "nbformat": 4,
  "nbformat_minor": 0,
  "metadata": {
    "colab": {
      "provenance": [],
      "authorship_tag": "ABX9TyNYgOSRx11ebDBvPwcbqzcT",
      "include_colab_link": true
    },
    "kernelspec": {
      "name": "python3",
      "display_name": "Python 3"
    },
    "language_info": {
      "name": "python"
    }
  },
  "cells": [
    {
      "cell_type": "markdown",
      "metadata": {
        "id": "view-in-github",
        "colab_type": "text"
      },
      "source": [
        "<a href=\"https://colab.research.google.com/github/Heidy024/Aplicadas-/blob/main/Taller_1_Practica_de_escritura_.ipynb\" target=\"_parent\"><img src=\"https://colab.research.google.com/assets/colab-badge.svg\" alt=\"Open In Colab\"/></a>"
      ]
    },
    {
      "cell_type": "markdown",
      "source": [
        "Taller #1\n",
        "Megan Isabella Loaiza A00411917\n",
        "Nicholas Solís A00411205\n",
        "Heidy Yuliana Hernandez A00411232\n",
        "\n",
        "1. Area lateral de un cilindro\n",
        "\n",
        "$$A=2\\pi rq$$\n",
        "\n",
        "* Despeje de r\n",
        "\n",
        "$$r=\\frac{A}{2\\pi q}$$\n",
        "\n",
        "2. Volumen del cono\n",
        "\n",
        "$$V=\\frac{A_{B}\\cdot h}{3}$$\n",
        "\n",
        "* Despeje de h\n",
        "\n",
        "$$h=\\frac{3V}{A_{B}}$$\n",
        "\n",
        "3. Volumen de la esfera\n",
        "\n",
        "$$V=\\frac43\\cdot\\pi \\cdot r^{3}$$\n",
        "\n",
        "* Despeje de r\n",
        "\n",
        "$$r=\\frac{3V}{4\\pi}$$\n",
        "\n",
        "4. Area del trapecio\n",
        "\n",
        "$$A=\\frac{B+b}{2}\\cdot h$$\n",
        "\n",
        "* Despeje de h\n",
        "\n",
        "$$h=\\frac{2A}{(B+b)}$$\n",
        "\n",
        "\n",
        "\n",
        "\n",
        "\n",
        "\n",
        "\n",
        "\n",
        "5. Intesidad electrica\n",
        "\n",
        "$$I=\\frac{q}{t}$$\n",
        "\n",
        "* Despeje de t\n",
        "\n",
        "$$t=\\frac{q}{I}$$\n",
        "\n",
        "6. Ley de Ohm\n",
        "\n",
        "$$I=\\frac{V}{R}$$\n",
        "\n",
        "* Despeje de R\n",
        "\n",
        "$$R=\\frac{V}{I}$$\n",
        "\n",
        "7. Energia electrica\n",
        "\n",
        "$$E=\\frac{V^{2}}{R}\\cdot t$$\n",
        "\n",
        "*Despeje de t\n",
        "\n",
        "$$t=\\frac{E\\cdot R}{V^{2}}$$\n",
        "\n",
        "\n",
        "\n",
        "\n",
        "\n",
        ">8.Resistencias en pararlelo;  $\\frac{1}{R}=\\frac{1}{R_{1}}+\\frac{1}{R_{2}}$\n",
        "  despeje de R: $R=\\frac{R_{1}R_{2}}{R_{1}+R_{2}}$\n",
        "\n",
        ">9.Ecuación gases perfectos $\\frac{P_{0}V_{0}}{T_{0}}=\\frac{P_{f}V_{f}}{T_{f}}$\n",
        "  Despeje de $P_{f}$: $P_{f}=\\frac{T_{f}P_{0}V_{0}}{T_{0}V_{f}}$\n",
        "\n",
        ">10.Intensisdad eléctrica: $I=\\frac{V_{A}-V_{B}}{R}$\n",
        "  Despeje de $V_{B}$: $V_{B}=V_{A}-IR$\n",
        "\n",
        "\n",
        "2.\n",
        "\n"
      ],
      "metadata": {
        "id": "hgh50xXjNuNn"
      }
    },
    {
      "cell_type": "code",
      "source": [
        "\n",
        "\n",
        "dospuntouno=((3*(-5+10+(-5)))-2*((-2)+(-4)+10))**2\n",
        "print(dospuntouno)\n",
        "\n",
        "dospuntodos=45+(3*(2+8)-(8/4))+10-83 #2.2\n",
        "print(dospuntodos)\n",
        "\n",
        "dospuntres=((-4+7)*2-10)*(-4)*-7-3\n",
        "print(dospuntres)"
      ],
      "metadata": {
        "colab": {
          "base_uri": "https://localhost:8080/"
        },
        "id": "zQV98u4KbBQu",
        "outputId": "bac159d3-96c9-4332-8500-dc1eabc1025d"
      },
      "execution_count": null,
      "outputs": [
        {
          "output_type": "stream",
          "name": "stdout",
          "text": [
            "64\n",
            "0.0\n",
            "-115\n"
          ]
        }
      ]
    },
    {
      "cell_type": "markdown",
      "source": [
        "3.\n",
        "\n",
        ">* $\n",
        "\\left(\\frac{1}{5}\\right) \\left[\\left(\\frac{1}{2}\\right)^2 + \\left(\\frac{3}{4}\\right)^2\\right] +\n",
        "\\left(\\frac{10}{25}\\right) \\left[\\left(\\frac{1}{2}\\right)^2 + \\left(\\frac{3}{4}\\right)^2\\right] +\n",
        "\\left(\\frac{8}{40}\\right) \\left[\\left(\\frac{1}{2}\\right)^2 + \\left(\\frac{3}{4}\\right)^2\\right]\n",
        "$\n",
        "\n",
        "\n",
        ">* $\\frac{9}{4}(\\frac{6}{8})^{-1}-\\frac52(\\frac{25}{20})^{-1}+\\frac{40}{8}(\\frac{20}{16})^{-1}$"
      ],
      "metadata": {
        "id": "yakmq40xeTyp"
      }
    },
    {
      "cell_type": "code",
      "source": [
        "print((1/5)*(((1/2)**2)+((3/4)**2))+(10/25)*(((1/2)**2)+((3/4)**2))+(8/40)*(((1/2)**2)+((3/4)**2)))\n",
        "\n",
        "\n",
        "(9/4)*((6/8)**-1)-(5/2)*((25/20)**-1)+(40/8)*((20/16)**-1)"
      ],
      "metadata": {
        "colab": {
          "base_uri": "https://localhost:8080/"
        },
        "id": "AfBG7hFOwrf-",
        "outputId": "d5d49ae1-3b1d-43d1-966e-2c6224d70c6b"
      },
      "execution_count": null,
      "outputs": [
        {
          "output_type": "stream",
          "name": "stdout",
          "text": [
            "0.65\n"
          ]
        },
        {
          "output_type": "execute_result",
          "data": {
            "text/plain": [
              "5.0"
            ]
          },
          "metadata": {},
          "execution_count": 12
        }
      ]
    },
    {
      "cell_type": "code",
      "source": [
        "#PUNTO 4\n",
        "\n",
        "Nombre = str(input(\"Digame su nombre: \"))\n",
        "Altura = float(input(\"Digame su altura en METROS: \"))\n",
        "Peso = int(input(\"Digame su peso en KILOGRAMOS: \"))\n",
        "\n",
        "IMC = Peso/(Altura**2)\n",
        "\n",
        "print(\"Su IMC es de \",IMC,\" estimado \",Nombre)\n",
        "\n",
        "\n",
        "#PUNTO 5\n",
        "\n",
        "a=int(input(\"Escriba un número: \"))\n",
        "b=int(input(\"Escriba otro número para sumarlos, restarlos, multiplicarlos y dividirlos: \"))\n",
        "\n",
        "print(a+b,a-b,a*b,a/b)"
      ],
      "metadata": {
        "colab": {
          "base_uri": "https://localhost:8080/"
        },
        "id": "S4002k-4gFzA",
        "outputId": "40768540-435f-42b5-9428-8faae4a51230"
      },
      "execution_count": null,
      "outputs": [
        {
          "output_type": "stream",
          "name": "stdout",
          "text": [
            "Digame su nombre: Nicholas\n",
            "Digame su altura en METROS: 1.76\n",
            "Digame su peso en KILOGRAMOS: 80\n",
            "Su IMC es de  25.826446280991735  estimado  Nicholas\n",
            "Escriba un número: 2\n",
            "Escriba otro número para sumarlos, restarlos, multiplicarlos y dividirlos: 3\n",
            "5 -1 6 0.6666666666666666\n"
          ]
        }
      ]
    },
    {
      "cell_type": "code",
      "source": [
        "#6 Aplicaciones\n",
        "precio_barril_petroleosemana=[77.8,78.31,77.22,76.21,76.45,77.17,76.9] #En dólares\n",
        "preciococacola_febrerotrece=1.09 #dólares\n",
        "litros_por_barril = 158.987\n",
        "precio_barril_coca = preciococacola_febrerotrece * litros_por_barril  # Precio barril de Coca-Cola\n",
        "\n",
        "# Relación petróleo / Coca-Cola\n",
        "relacion_petrol_coca = [(precio_petroleo / precio_barril_coca) for precio_petroleo in precio_barril_petroleosemana] #Se crea una variale temporal para el loop y así operar en cada valor de la lista de precios del barril de petróleo en la semana\n",
        "\n",
        "print(f\"El precio de los barriles de petróleo en la semana fueron: {precio_barril_petroleosemana}, el precio de la cocacola en dólares es: {preciococacola_febrerotrece}\")\n",
        "print(f\"El precio del barril de cocacola entonces sería de {precio_barril_coca}, y la relación  petróleo / cocacola es: {relacion_petrol_coca}\")\n",
        "print(\"En conclusión el precio de los barriles de petróleo siempre fue menor en el transcurso de la semana al precio de un barril de cocacola \")"
      ],
      "metadata": {
        "colab": {
          "base_uri": "https://localhost:8080/"
        },
        "id": "P4A2sTx4zHZt",
        "outputId": "606e1bb4-addc-4850-e62d-2a2ae9c9a3ee"
      },
      "execution_count": null,
      "outputs": [
        {
          "output_type": "stream",
          "name": "stdout",
          "text": [
            "El precio de los barriles de petróleo en la semana fueron: [77.8, 78.31, 77.22, 76.21, 76.45, 77.17, 76.9], el precio de la cocacola en dólares es: 1.09\n",
            "El precio del barril de cocacola entonces sería de 173.29583, y la relación  petróleo / cocacola es: [0.4489432896336859, 0.4518862340773001, 0.4455964116389875, 0.43976822754477124, 0.4411531425770603, 0.4453078876739273, 0.4437498582626022]\n",
            "En conclusión el precio de los barriles de petróleo siempre fue menor en el transcurso de la semana al precio de un barril de cocacola \n"
          ]
        }
      ]
    }
  ]
}